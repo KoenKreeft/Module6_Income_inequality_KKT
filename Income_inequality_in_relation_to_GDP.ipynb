{
  "nbformat": 4,
  "nbformat_minor": 0,
  "metadata": {
    "colab": {
      "provenance": []
    },
    "kernelspec": {
      "name": "python3",
      "display_name": "Python 3"
    },
    "language_info": {
      "name": "python"
    }
  },
  "cells": [
    {
      "cell_type": "code",
      "execution_count": 694,
      "metadata": {
        "id": "6l9XhE4qyBlx"
      },
      "outputs": [],
      "source": [
        "import pandas as pd\n",
        "import numpy as np\n",
        "from matplotlib import pyplot as plt\n",
        "import matplotlib.font_manager\n",
        "import seaborn as sns\n",
        "%matplotlib inline\n",
        "from matplotlib.pyplot import figure\n",
        "import plotly.express as px\n",
        "from scipy import stats\n",
        "import plotly.graph_objects as go\n",
        "import plotly.express as px\n",
        "import matplotlib.cm as cm"
      ]
    },
    {
      "cell_type": "code",
      "source": [
        "from google.colab import drive\n",
        "drive.mount ('/content/drive')"
      ],
      "metadata": {
        "id": "LeS90sdly7Gm",
        "colab": {
          "base_uri": "https://localhost:8080/"
        },
        "outputId": "6485c443-1af6-447c-b2f7-2c3c8ccbdcee"
      },
      "execution_count": 695,
      "outputs": [
        {
          "output_type": "stream",
          "name": "stdout",
          "text": [
            "Drive already mounted at /content/drive; to attempt to forcibly remount, call drive.mount(\"/content/drive\", force_remount=True).\n"
          ]
        }
      ]
    },
    {
      "cell_type": "code",
      "source": [
        "%load_ext google.colab.data_table"
      ],
      "metadata": {
        "id": "aD60NH88zSNm",
        "colab": {
          "base_uri": "https://localhost:8080/"
        },
        "outputId": "25fec904-3da5-4c75-c4a5-79715a0d3dc3"
      },
      "execution_count": 696,
      "outputs": [
        {
          "output_type": "stream",
          "name": "stdout",
          "text": [
            "The google.colab.data_table extension is already loaded. To reload it, use:\n",
            "  %reload_ext google.colab.data_table\n"
          ]
        }
      ]
    },
    {
      "cell_type": "code",
      "source": [
        "# Is there a relation between a country's Gross Domestrict Product (GDP) and its income inequality?\n",
        "# Be aware of the difference between correlation and causation here. A might cause B. B might cause A. But both A and B could be caused by an unknown C as well.\n",
        "# One way to express income inequality is to look at a country's \"Gini coefficient\" (also known as \"Gini index\"). You can find a dataset of Gini Coefficients here(opens in a new tab).\n",
        "# You can find a dataset with historical GDP data here(opens in a new tab).\n",
        "# To be able to answer this question you would want to calculate the \"correlation coefficient\" of the GDP and the Gini coefficient. But before you can do that you may need to resample the data so a correlation coefficient can be calculated.\n"
      ],
      "metadata": {
        "id": "PGl6dMJ0ixeS"
      },
      "execution_count": 697,
      "outputs": []
    },
    {
      "cell_type": "code",
      "source": [
        "# Load dataframe1\n",
        "income = pd.read_csv(\"/content/drive/MyDrive/RawData/inequality.csv\", encoding='latin-1')\n",
        "income"
      ],
      "metadata": {
        "id": "eBf3MrF2zCyG"
      },
      "execution_count": null,
      "outputs": []
    },
    {
      "cell_type": "code",
      "source": [
        "# Filter the columns I want to use dataframe1\n",
        "income_filtered = income.loc [0:,\"Country\":\"Gini coefficient (before tax) (World Inequality Database)\"]\n",
        "income_filtered"
      ],
      "metadata": {
        "id": "v8cYMzKx8w6e"
      },
      "execution_count": null,
      "outputs": []
    },
    {
      "cell_type": "code",
      "source": [
        "# Load dataframe2\n",
        "gdp = pd.read_csv(\"/content/drive/MyDrive/RawData/gdp-per-capita-maddison.csv\", encoding='latin-1')\n",
        "gdp"
      ],
      "metadata": {
        "id": "G7EC-vz6zrTa"
      },
      "execution_count": null,
      "outputs": []
    },
    {
      "cell_type": "code",
      "source": [
        "# Filter the columns I want to use dataframe2\n",
        "gdp_filtered = gdp.loc [0:,\"Entity\":\"GDP per capita\"]\n",
        "gdp_filtered"
      ],
      "metadata": {
        "id": "MgSOJfii8-AA"
      },
      "execution_count": null,
      "outputs": []
    },
    {
      "cell_type": "code",
      "source": [
        "# Rename column to match the columnames in both dataframes\n",
        "gdp_filtered = gdp_filtered.rename(columns={'Entity': 'Country'})\n",
        "gdp_filtered"
      ],
      "metadata": {
        "id": "is0xCRse9cZe"
      },
      "execution_count": null,
      "outputs": []
    },
    {
      "cell_type": "code",
      "source": [
        "# I want to merge the two data frames while keeping the rows of both data frames based on one or more common columns.\n",
        "merge_result = pd.merge(gdp_filtered, income_filtered, on=['Country', 'Year'], how='inner')\n",
        "merge_result"
      ],
      "metadata": {
        "id": "J546T_Qv_roy"
      },
      "execution_count": null,
      "outputs": []
    },
    {
      "cell_type": "code",
      "source": [
        "# Filter out the NaN\n",
        "result_filtered = merge_result.dropna()\n",
        "result_filtered"
      ],
      "metadata": {
        "id": "JO4Z60PBBHp5"
      },
      "execution_count": null,
      "outputs": []
    },
    {
      "cell_type": "code",
      "source": [
        "# Rename columnname\n",
        "result_filtered.rename(columns={'Gini coefficient (before tax) (World Inequality Database)': 'Gini coefficient'}, inplace=True)"
      ],
      "metadata": {
        "id": "4J21lCjjLWYR"
      },
      "execution_count": null,
      "outputs": []
    },
    {
      "cell_type": "code",
      "source": [
        "# Set the 'Country' and 'Year' columns as the index of the dataframe\n",
        "result_filtered.set_index(['Country', 'Year'], inplace=True)"
      ],
      "metadata": {
        "id": "xeQobFtvb9ln"
      },
      "execution_count": 706,
      "outputs": []
    },
    {
      "cell_type": "code",
      "source": [
        "# Initialize an empty dataframe to store the results\n",
        "correlation_result = pd.DataFrame(columns=['Country', 'Year', 'Pearson Correlation'])"
      ],
      "metadata": {
        "id": "yFiQZZNnhUZn"
      },
      "execution_count": 707,
      "outputs": []
    },
    {
      "cell_type": "code",
      "source": [
        "# Group the data by 'Country'\n",
        "grouped = result_filtered.groupby('Country')"
      ],
      "metadata": {
        "id": "nMsp6dNdb_JC"
      },
      "execution_count": 708,
      "outputs": []
    },
    {
      "cell_type": "code",
      "source": [
        "# Loop through each country and calculate the Pearson Correlation per year\n",
        "for country, group in grouped:\n",
        "    correlation = group['GDP per capita'].corr(group['Gini coefficient'], method='pearson')\n",
        "    years = group.index.get_level_values('Year')\n",
        "    correlation_result = pd.concat([correlation_result, pd.DataFrame({'Country': country, 'Year': years, 'Pearson Correlation': correlation}).reset_index(drop=True)])"
      ],
      "metadata": {
        "id": "91BnsVnbcFWP"
      },
      "execution_count": null,
      "outputs": []
    },
    {
      "cell_type": "code",
      "source": [
        "# Reset the index of the resulting dataframe\n",
        "correlation_result.reset_index(drop=True, inplace=True)"
      ],
      "metadata": {
        "id": "hmTdIxEScSD6"
      },
      "execution_count": 710,
      "outputs": []
    },
    {
      "cell_type": "code",
      "source": [
        "# Display the resulting dataFrame with Pearson Correlations\n",
        "correlation_result"
      ],
      "metadata": {
        "id": "HXS7_E5EcSqS"
      },
      "execution_count": null,
      "outputs": []
    },
    {
      "cell_type": "code",
      "source": [
        "# Find the most common year in the dataframe\n",
        "most_common_year = correlation_result['Year'].mode().iloc[0]\n",
        "most_common_year"
      ],
      "metadata": {
        "id": "_Dh-M-XsiqJ6"
      },
      "execution_count": null,
      "outputs": []
    },
    {
      "cell_type": "code",
      "source": [
        "# Create a new dataframe with only the Pearson Correlation for the most common year\n",
        "filtered_result = correlation_result[correlation_result['Year'] == most_common_year][['Country', 'Pearson Correlation']]\n",
        "filtered_result"
      ],
      "metadata": {
        "id": "QIbGtfw2jWtA"
      },
      "execution_count": null,
      "outputs": []
    },
    {
      "cell_type": "code",
      "source": [
        "# Sort the dataframe by 'Pearson Correlation' in descending order to get the top countries\n",
        "top = 100\n",
        "filtered_result = filtered_result.sort_values(by='Pearson Correlation', ascending=True)[:top]"
      ],
      "metadata": {
        "id": "rYiKrV9k2iMb"
      },
      "execution_count": 714,
      "outputs": []
    },
    {
      "cell_type": "code",
      "source": [
        "# Color coding based on the Pearson Correlation\n",
        "colors = cm.RdYlGn(filtered_result['Pearson Correlation'])"
      ],
      "metadata": {
        "id": "vfxmRRtK2kas"
      },
      "execution_count": 715,
      "outputs": []
    },
    {
      "cell_type": "code",
      "source": [
        "# Add categories based on the Pearson Correlation values\n",
        "categories = []\n",
        "\n",
        "for corr in filtered_result['Pearson Correlation']:\n",
        "    if corr >= 0.8:\n",
        "        categories.append('0.8 - 1.0')\n",
        "    elif corr >= 0.6:\n",
        "        categories.append('0.6 - 0.8')\n",
        "    elif corr >= 0.4:\n",
        "        categories.append('0.4 - 0.6')\n",
        "    elif corr >= 0.2:\n",
        "        categories.append('0.2 - 0.4')\n",
        "    elif corr >= 0.0:\n",
        "        categories.append('0.0 - 0.2')\n",
        "    elif corr >= -0.2:\n",
        "        categories.append('-0.2 - 0.0')\n",
        "    elif corr >= -0.4:\n",
        "        categories.append('-0.4 - -0.2')\n",
        "    elif corr >= -0.6:\n",
        "        categories.append('-0.6 - -0.4')\n",
        "    elif corr >= -0.8:\n",
        "        categories.append('-0.8 - -0.6')\n",
        "    else:\n",
        "        categories.append('-1.0 - -0.8')\n",
        "\n",
        "filtered_result['Category'] = categories"
      ],
      "metadata": {
        "id": "nkNhEQFz2nmU"
      },
      "execution_count": 716,
      "outputs": []
    },
    {
      "cell_type": "code",
      "source": [
        "# This graph shows the result of the correlation coefficient for 2010. This is the year in which a comparison can be made for as many countries as possible from the available datasets.\n",
        "# The closer to 1, the stronger the relationship between a country's Gross Domestrict Product(GDP) and its income inequality\n",
        "plt.figure(figsize=(25, 12))\n",
        "bars = plt.bar(filtered_result['Country'], filtered_result['Pearson Correlation'], color=colors)\n",
        "plt.axhline(0, color='gray', linestyle='--')\n",
        "plt.ylabel('Pearson Correlation')\n",
        "plt.title(f'Pearson Correlation for 2010')\n",
        "plt.gca().invert_xaxis()\n",
        "plt.xticks(rotation=75)\n",
        "plt.grid(axis='both', linestyle='--', alpha=0.8)\n",
        "plt.tight_layout()\n",
        "\n",
        "# Add a legend for the color usage with a specific position and width for the color bar\n",
        "sm = cm.ScalarMappable(cmap=cm.RdYlGn, norm=plt.Normalize(vmin=-1, vmax=1))\n",
        "sm.set_array([])\n",
        "cax = plt.gcf().add_axes([1.0, 0.15, 0.02, 0.7])\n",
        "cbar = plt.colorbar(sm, cax=cax)\n",
        "cbar.set_label('Correlation Strength')\n",
        "\n",
        "plt.show()"
      ],
      "metadata": {
        "id": "GQXzgPnN2pxg"
      },
      "execution_count": null,
      "outputs": []
    }
  ]
}