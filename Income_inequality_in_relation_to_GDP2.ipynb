{
  "nbformat": 4,
  "nbformat_minor": 0,
  "metadata": {
    "colab": {
      "provenance": []
    },
    "kernelspec": {
      "name": "python3",
      "display_name": "Python 3"
    },
    "language_info": {
      "name": "python"
    }
  },
  "cells": [
    {
      "cell_type": "code",
      "execution_count": 137,
      "metadata": {
        "id": "x62VrwVIt6Do"
      },
      "outputs": [],
      "source": []
    },
    {
      "cell_type": "code",
      "execution_count": 138,
      "metadata": {
        "id": "6l9XhE4qyBlx"
      },
      "outputs": [],
      "source": [
        "import pandas as pd\n",
        "import numpy as np\n",
        "from matplotlib import pyplot as plt\n",
        "import matplotlib.font_manager\n",
        "import seaborn as sns\n",
        "%matplotlib inline\n",
        "from matplotlib.pyplot import figure\n",
        "import plotly.express as px\n",
        "from scipy import stats\n",
        "import plotly.graph_objects as go\n",
        "import plotly.express as px\n",
        "import matplotlib.cm as cm\n",
        "import seaborn as sns"
      ]
    },
    {
      "cell_type": "code",
      "source": [
        "from google.colab import drive\n",
        "drive.mount ('/content/drive')"
      ],
      "metadata": {
        "id": "LeS90sdly7Gm"
      },
      "execution_count": null,
      "outputs": []
    },
    {
      "cell_type": "code",
      "source": [
        "%load_ext google.colab.data_table"
      ],
      "metadata": {
        "id": "aD60NH88zSNm"
      },
      "execution_count": null,
      "outputs": []
    },
    {
      "cell_type": "code",
      "source": [
        "# Is there a relation between a country's Gross Domestrict Product (GDP) and its income inequality?\n",
        "# Be aware of the difference between correlation and causation here. A might cause B. B might cause A. But both A and B could be caused by an unknown C as well.\n",
        "# One way to express income inequality is to look at a country's \"Gini coefficient\" (also known as \"Gini index\"). You can find a dataset of Gini Coefficients here(opens in a new tab).\n",
        "# You can find a dataset with historical GDP data here(opens in a new tab).\n",
        "# To be able to answer this question you would want to calculate the \"correlation coefficient\" of the GDP and the Gini coefficient. But before you can do that you may need to resample the data so a correlation coefficient can be calculated.\n"
      ],
      "metadata": {
        "id": "PGl6dMJ0ixeS"
      },
      "execution_count": 141,
      "outputs": []
    },
    {
      "cell_type": "code",
      "source": [
        "# Load dataframe1\n",
        "income = pd.read_csv(\"/content/drive/MyDrive/RawData/inequality.csv\", encoding='latin-1')\n",
        "income"
      ],
      "metadata": {
        "id": "eBf3MrF2zCyG"
      },
      "execution_count": null,
      "outputs": []
    },
    {
      "cell_type": "code",
      "source": [
        "# Filter the columns I want to use dataframe1\n",
        "income_filtered = income.loc [0:,\"Country\":\"Gini coefficient (before tax) (World Inequality Database)\"]\n",
        "income_filtered"
      ],
      "metadata": {
        "id": "v8cYMzKx8w6e"
      },
      "execution_count": null,
      "outputs": []
    },
    {
      "cell_type": "code",
      "source": [
        "# Load dataframe2\n",
        "gdp = pd.read_csv(\"/content/drive/MyDrive/RawData/gdp-per-capita-maddison.csv\", encoding='latin-1')\n",
        "gdp"
      ],
      "metadata": {
        "id": "G7EC-vz6zrTa"
      },
      "execution_count": null,
      "outputs": []
    },
    {
      "cell_type": "code",
      "source": [
        "# Filter the columns I want to use dataframe2\n",
        "gdp_filtered = gdp.loc [0:,\"Entity\":\"GDP per capita\"]\n",
        "gdp_filtered"
      ],
      "metadata": {
        "id": "MgSOJfii8-AA"
      },
      "execution_count": null,
      "outputs": []
    },
    {
      "cell_type": "code",
      "source": [
        "# Rename column to match the columnames in both dataframes\n",
        "gdp_filtered = gdp_filtered.rename(columns={'Entity': 'Country'})\n",
        "gdp_filtered"
      ],
      "metadata": {
        "id": "is0xCRse9cZe"
      },
      "execution_count": null,
      "outputs": []
    },
    {
      "cell_type": "code",
      "source": [
        "# I want to merge the two data frames while keeping the rows of both data frames based on one or more common columns.\n",
        "merge_result = pd.merge(gdp_filtered, income_filtered, on=['Country', 'Year'], how='inner')\n",
        "merge_result"
      ],
      "metadata": {
        "id": "J546T_Qv_roy"
      },
      "execution_count": null,
      "outputs": []
    },
    {
      "cell_type": "code",
      "source": [
        "# Filter out the NaN\n",
        "result_filtered = merge_result.dropna()\n",
        "result_filtered"
      ],
      "metadata": {
        "id": "JO4Z60PBBHp5"
      },
      "execution_count": null,
      "outputs": []
    },
    {
      "cell_type": "code",
      "source": [
        "# Rename columnname\n",
        "result_filtered.rename(columns={'Gini coefficient (before tax) (World Inequality Database)': 'Gini coefficient'}, inplace=True)\n",
        "result_filtered"
      ],
      "metadata": {
        "id": "4J21lCjjLWYR"
      },
      "execution_count": null,
      "outputs": []
    },
    {
      "cell_type": "code",
      "source": [
        "# Set the 'Country' and 'Year' columns as the index of the dataframe\n",
        "result_filtered.set_index(['Country', 'Year'], inplace=True)\n",
        "result_filtered"
      ],
      "metadata": {
        "id": "xeQobFtvb9ln"
      },
      "execution_count": null,
      "outputs": []
    },
    {
      "cell_type": "code",
      "source": [
        "# Initialize an empty dataframe to store the results\n",
        "correlation_result = pd.DataFrame(columns=['Country', 'Year', 'Pearson Correlation'])"
      ],
      "metadata": {
        "id": "yFiQZZNnhUZn"
      },
      "execution_count": 151,
      "outputs": []
    },
    {
      "cell_type": "code",
      "source": [
        "# Group the data by 'Country'\n",
        "grouped = result_filtered.groupby('Country')"
      ],
      "metadata": {
        "id": "nMsp6dNdb_JC"
      },
      "execution_count": 152,
      "outputs": []
    },
    {
      "cell_type": "code",
      "source": [
        "# Loop through each country and calculate the Pearson Correlation per year\n",
        "for country, group in grouped:\n",
        "    correlation = group['GDP per capita'].corr(group['Gini coefficient'], method='pearson')\n",
        "    years = group.index.get_level_values('Year')\n",
        "    correlation_result = pd.concat([correlation_result, pd.DataFrame({'Country': country, 'Year': years, 'Pearson Correlation': correlation}).reset_index(drop=True)])"
      ],
      "metadata": {
        "id": "91BnsVnbcFWP"
      },
      "execution_count": null,
      "outputs": []
    },
    {
      "cell_type": "code",
      "source": [
        "# Reset the index of the resulting dataframe\n",
        "correlation_result.reset_index(drop=True, inplace=True)"
      ],
      "metadata": {
        "id": "hmTdIxEScSD6"
      },
      "execution_count": 154,
      "outputs": []
    },
    {
      "cell_type": "code",
      "source": [
        "# Display the resulting dataFrame with Pearson Correlations\n",
        "correlation_result"
      ],
      "metadata": {
        "id": "HXS7_E5EcSqS"
      },
      "execution_count": null,
      "outputs": []
    },
    {
      "cell_type": "code",
      "source": [
        "# Find the most common year in the dataframe\n",
        "most_common_year = correlation_result['Year'].mode().iloc[0]\n",
        "most_common_year"
      ],
      "metadata": {
        "id": "_Dh-M-XsiqJ6"
      },
      "execution_count": null,
      "outputs": []
    },
    {
      "cell_type": "code",
      "source": [
        "# Create a new dataframe with only the Pearson Correlation for the most common year\n",
        "filtered_result = correlation_result[correlation_result['Year'] == most_common_year][['Country', 'Year', 'Pearson Correlation']]"
      ],
      "metadata": {
        "id": "vgluJNTyvl9e"
      },
      "execution_count": 157,
      "outputs": []
    },
    {
      "cell_type": "code",
      "source": [
        "# Merge with the original dataframe to include 'GDP per capita' and 'Gini coefficient'\n",
        "filtered_result = pd.merge(filtered_result, result_filtered, on=['Country', 'Year'], how='inner')"
      ],
      "metadata": {
        "id": "nw3bk7AtyNZ3"
      },
      "execution_count": 158,
      "outputs": []
    },
    {
      "cell_type": "code",
      "source": [
        "# Reorder columns for better readability\n",
        "filtered_result = filtered_result[['Country', 'Year', 'GDP per capita', 'Gini coefficient', 'Pearson Correlation']]"
      ],
      "metadata": {
        "id": "MQtKLRftyPBg"
      },
      "execution_count": 159,
      "outputs": []
    },
    {
      "cell_type": "code",
      "source": [
        "# Display the resulting dataFrame\n",
        "filtered_result"
      ],
      "metadata": {
        "id": "bwQH55IdyRF4"
      },
      "execution_count": null,
      "outputs": []
    },
    {
      "cell_type": "code",
      "source": [
        "# Scatter plot of GDP per capita vs. Gini coefficient\n",
        "plt.figure(figsize=(25, 15))\n",
        "\n",
        "scatter = plt.scatter(filtered_result['GDP per capita'], filtered_result['Gini coefficient'], alpha=0.8, s=50)\n",
        "\n",
        "# Add country labels\n",
        "for i, country in enumerate(filtered_result['Country']):\n",
        "    plt.annotate(country, (filtered_result['GDP per capita'].iloc[i], filtered_result['Gini coefficient'].iloc[i]), fontsize=11)\n",
        "\n",
        "# Plot the diagonal line for perfect correlation\n",
        "plt.plot([filtered_result['GDP per capita'].min(), filtered_result['GDP per capita'].max()],\n",
        "         [filtered_result['Gini coefficient'].min(), filtered_result['Gini coefficient'].max()],\n",
        "         linestyle='--', color='red', alpha=0.5)\n",
        "\n",
        "plt.title('GDP per capita vs. Gini coefficient in 2010')\n",
        "plt.xlabel('GDP per capita')\n",
        "plt.ylabel('Gini coefficient')\n",
        "plt.grid(True, linestyle='--', alpha=0.7)\n",
        "plt.tight_layout()\n",
        "plt.show()"
      ],
      "metadata": {
        "id": "q0jMFW92y_P7"
      },
      "execution_count": null,
      "outputs": []
    }
  ]
}